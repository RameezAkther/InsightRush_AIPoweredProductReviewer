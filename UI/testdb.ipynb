{
 "cells": [
  {
   "cell_type": "code",
   "execution_count": 17,
   "metadata": {},
   "outputs": [
    {
     "data": {
      "text/plain": [
       "True"
      ]
     },
     "execution_count": 17,
     "metadata": {},
     "output_type": "execute_result"
    }
   ],
   "source": [
    "import mysql.connector\n",
    "from flask import Flask\n",
    "\n",
    "app = Flask(__name__)\n",
    "\n",
    "# Connect to your MySQL database\n",
    "db = mysql.connector.connect(\n",
    "    host=\"localhost\",\n",
    "    user=\"root\",\n",
    "    password=\"rameez\",\n",
    "    database=\"product details\"\n",
    ")\n",
    "\n",
    "# Create a cursor object to interact with the database\n",
    "mycursor = db.cursor()\n",
    "\n",
    "# Execute a SELECT query to fetch data from the Products table\n",
    "mycursor.execute(\"SELECT * FROM Products\")\n",
    "\n",
    "# Fetch all the rows from the query result\n",
    "products_data = mycursor.fetchall()\n",
    "\n",
    "# Close the cursor and database connection\n",
    "mycursor.close()\n",
    "\n"
   ]
  },
  {
   "cell_type": "code",
   "execution_count": 6,
   "metadata": {},
   "outputs": [
    {
     "name": "stdout",
     "output_type": "stream",
     "text": [
      "(4, 'HP Victus Gaming Laptop,', datetime.date(2024, 5, 2), 'C:\\\\users\\\\ramee\\\\Desktop\\\\AI Lab\\\\Project\\\\Image\\\\10.jpg')\n"
     ]
    }
   ],
   "source": [
    "print(products_data[0])"
   ]
  },
  {
   "cell_type": "code",
   "execution_count": 8,
   "metadata": {},
   "outputs": [],
   "source": [
    "product_id = 4"
   ]
  },
  {
   "cell_type": "code",
   "execution_count": 19,
   "metadata": {},
   "outputs": [],
   "source": [
    "mycursor = db.cursor()\n",
    "query = \"\"\"\n",
    "    SELECT *\n",
    "    FROM Products\n",
    "    LEFT JOIN AmazonSummary ON Products.`Product ID` = AmazonSummary.`Product ID`\n",
    "    LEFT JOIN PricingDetails ON Products.`Product ID` = PricingDetails.`Product ID`\n",
    "    LEFT JOIN ReviewClassifier ON Products.`Product ID` = ReviewClassifier.`Product ID`\n",
    "    LEFT JOIN ReviewSummary ON Products.`Product ID` = ReviewSummary.`Product ID`\n",
    "    WHERE Products.`Product ID` = %s\n",
    "    \"\"\"\n",
    "mycursor.execute(query, (product_id,))\n",
    "result = mycursor.fetchall()"
   ]
  },
  {
   "cell_type": "code",
   "execution_count": 20,
   "metadata": {},
   "outputs": [],
   "source": [
    "product_id = 4  # Example product ID\n",
    "\n",
    "# Fetching data from AmazonSummary\n",
    "amazon_query = \"SELECT * FROM AmazonSummary WHERE `Product ID` = %s\"\n",
    "mycursor.execute(amazon_query, (product_id,))\n",
    "amazon_data = mycursor.fetchall()\n",
    "\n",
    "# Fetching data from PricingDetails\n",
    "pricing_query = \"SELECT * FROM PricingDetails WHERE `Product ID` = %s\"\n",
    "mycursor.execute(pricing_query, (product_id,))\n",
    "pricing_data = mycursor.fetchall()\n",
    "\n",
    "# Fetching data from ReviewClassifier\n",
    "classifier_query = \"SELECT * FROM ReviewClassifier WHERE `Product ID` = %s\"\n",
    "mycursor.execute(classifier_query, (product_id,))\n",
    "classifier_data = mycursor.fetchall()\n",
    "\n",
    "# Fetching data from ReviewSummary\n",
    "summary_query = \"SELECT * FROM ReviewSummary WHERE `Product ID` = %s\"\n",
    "mycursor.execute(summary_query, (product_id,))\n",
    "summary_data = mycursor.fetchall()\n",
    "db.close()"
   ]
  },
  {
   "cell_type": "code",
   "execution_count": 25,
   "metadata": {},
   "outputs": [
    {
     "data": {
      "text/plain": [
       "[(4,\n",
       "  \"Customers like the build quality of the laptop, mentioning it's superb tough and feels like a premium laptop. They also like the gaming. However, some customers have reported issues with the battery life and screen. They say the battery drains out fast and the screen wobbles. Opinions are mixed on value, sound quality, performance, and appearance.\")]"
      ]
     },
     "execution_count": 25,
     "metadata": {},
     "output_type": "execute_result"
    }
   ],
   "source": [
    "amazon_data"
   ]
  }
 ],
 "metadata": {
  "kernelspec": {
   "display_name": "Project",
   "language": "python",
   "name": "python3"
  },
  "language_info": {
   "codemirror_mode": {
    "name": "ipython",
    "version": 3
   },
   "file_extension": ".py",
   "mimetype": "text/x-python",
   "name": "python",
   "nbconvert_exporter": "python",
   "pygments_lexer": "ipython3",
   "version": "3.10.5"
  }
 },
 "nbformat": 4,
 "nbformat_minor": 2
}
